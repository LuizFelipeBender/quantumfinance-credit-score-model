{
 "cells": [
  {
   "cell_type": "markdown",
   "id": "ba298329",
   "metadata": {},
   "source": [
    "# 🧠 QuantumFinance Credit Score Model\n",
    "\n",
    "Este repositório contém o pipeline completo de treinamento, versionamento e publicação de um modelo de **score de crédito simplificado**, desenvolvido para a aplicação da QuantumFinance. Ele foi construído com foco em **rastreamento de experimentos**, **versionamento de modelos com MLflow**, e **integração com API e frontend via CI/CD**.\n",
    "\n",
    "---\n"
   ]
  },
  {
   "cell_type": "markdown",
   "id": "3c4ec664",
   "metadata": {},
   "source": [
    "Instala as dependecias para execução do projeto, para pessoas com acesso autorizado é baixado e versionado o código via dvc em bucket s3"
   ]
  },
  {
   "cell_type": "code",
   "execution_count": 34,
   "id": "a26d4b3a",
   "metadata": {},
   "outputs": [
    {
     "name": "stdout",
     "output_type": "stream",
     "text": [
      "Requirement already satisfied: pandas in c:\\users\\luizb\\appdata\\local\\programs\\python\\python312\\lib\\site-packages (from -r requirements.txt (line 1)) (2.2.3)\n",
      "Requirement already satisfied: scikit-learn==1.6.1 in c:\\users\\luizb\\appdata\\local\\programs\\python\\python312\\lib\\site-packages (from -r requirements.txt (line 2)) (1.6.1)\n",
      "Requirement already satisfied: mlflow in c:\\users\\luizb\\appdata\\local\\programs\\python\\python312\\lib\\site-packages (from -r requirements.txt (line 3)) (3.1.4)\n",
      "Requirement already satisfied: joblib in c:\\users\\luizb\\appdata\\local\\programs\\python\\python312\\lib\\site-packages (from -r requirements.txt (line 4)) (1.5.1)\n",
      "Requirement already satisfied: imblearn in c:\\users\\luizb\\appdata\\local\\programs\\python\\python312\\lib\\site-packages (from -r requirements.txt (line 5)) (0.0)\n",
      "Requirement already satisfied: seaborn in c:\\users\\luizb\\appdata\\local\\programs\\python\\python312\\lib\\site-packages (from -r requirements.txt (line 6)) (0.13.2)\n",
      "Requirement already satisfied: gdown in c:\\users\\luizb\\appdata\\local\\programs\\python\\python312\\lib\\site-packages (from -r requirements.txt (line 7)) (5.2.0)\n",
      "Requirement already satisfied: boto3 in c:\\users\\luizb\\appdata\\local\\programs\\python\\python312\\lib\\site-packages (from -r requirements.txt (line 8)) (1.40.1)\n",
      "Requirement already satisfied: requests in c:\\users\\luizb\\appdata\\local\\programs\\python\\python312\\lib\\site-packages (from -r requirements.txt (line 9)) (2.32.3)\n",
      "Collecting pytest (from -r requirements.txt (line 10))\n",
      "  Downloading pytest-8.4.1-py3-none-any.whl.metadata (7.7 kB)\n",
      "Requirement already satisfied: numpy>=1.19.5 in c:\\users\\luizb\\appdata\\local\\programs\\python\\python312\\lib\\site-packages (from scikit-learn==1.6.1->-r requirements.txt (line 2)) (2.2.3)\n",
      "Requirement already satisfied: scipy>=1.6.0 in c:\\users\\luizb\\appdata\\local\\programs\\python\\python312\\lib\\site-packages (from scikit-learn==1.6.1->-r requirements.txt (line 2)) (1.16.1)\n",
      "Requirement already satisfied: threadpoolctl>=3.1.0 in c:\\users\\luizb\\appdata\\local\\programs\\python\\python312\\lib\\site-packages (from scikit-learn==1.6.1->-r requirements.txt (line 2)) (3.6.0)\n",
      "Requirement already satisfied: python-dateutil>=2.8.2 in c:\\users\\luizb\\appdata\\roaming\\python\\python312\\site-packages (from pandas->-r requirements.txt (line 1)) (2.9.0.post0)\n",
      "Requirement already satisfied: pytz>=2020.1 in c:\\users\\luizb\\appdata\\local\\programs\\python\\python312\\lib\\site-packages (from pandas->-r requirements.txt (line 1)) (2025.1)\n",
      "Requirement already satisfied: tzdata>=2022.7 in c:\\users\\luizb\\appdata\\local\\programs\\python\\python312\\lib\\site-packages (from pandas->-r requirements.txt (line 1)) (2025.1)\n",
      "Requirement already satisfied: mlflow-skinny==3.1.4 in c:\\users\\luizb\\appdata\\local\\programs\\python\\python312\\lib\\site-packages (from mlflow->-r requirements.txt (line 3)) (3.1.4)\n",
      "Requirement already satisfied: Flask<4 in c:\\users\\luizb\\appdata\\local\\programs\\python\\python312\\lib\\site-packages (from mlflow->-r requirements.txt (line 3)) (3.1.1)\n",
      "Requirement already satisfied: alembic!=1.10.0,<2 in c:\\users\\luizb\\appdata\\local\\programs\\python\\python312\\lib\\site-packages (from mlflow->-r requirements.txt (line 3)) (1.16.4)\n",
      "Requirement already satisfied: docker<8,>=4.0.0 in c:\\users\\luizb\\appdata\\local\\programs\\python\\python312\\lib\\site-packages (from mlflow->-r requirements.txt (line 3)) (7.1.0)\n",
      "Requirement already satisfied: graphene<4 in c:\\users\\luizb\\appdata\\local\\programs\\python\\python312\\lib\\site-packages (from mlflow->-r requirements.txt (line 3)) (3.4.3)\n",
      "Requirement already satisfied: matplotlib<4 in c:\\users\\luizb\\appdata\\local\\programs\\python\\python312\\lib\\site-packages (from mlflow->-r requirements.txt (line 3)) (3.10.3)\n",
      "Requirement already satisfied: pyarrow<21,>=4.0.0 in c:\\users\\luizb\\appdata\\local\\programs\\python\\python312\\lib\\site-packages (from mlflow->-r requirements.txt (line 3)) (20.0.0)\n",
      "Requirement already satisfied: sqlalchemy<3,>=1.4.0 in c:\\users\\luizb\\appdata\\local\\programs\\python\\python312\\lib\\site-packages (from mlflow->-r requirements.txt (line 3)) (2.0.42)\n",
      "Requirement already satisfied: waitress<4 in c:\\users\\luizb\\appdata\\local\\programs\\python\\python312\\lib\\site-packages (from mlflow->-r requirements.txt (line 3)) (3.0.2)\n",
      "Requirement already satisfied: cachetools<7,>=5.0.0 in c:\\users\\luizb\\appdata\\local\\programs\\python\\python312\\lib\\site-packages (from mlflow-skinny==3.1.4->mlflow->-r requirements.txt (line 3)) (5.5.2)\n",
      "Requirement already satisfied: click<9,>=7.0 in c:\\users\\luizb\\appdata\\local\\programs\\python\\python312\\lib\\site-packages (from mlflow-skinny==3.1.4->mlflow->-r requirements.txt (line 3)) (8.2.1)\n",
      "Requirement already satisfied: cloudpickle<4 in c:\\users\\luizb\\appdata\\local\\programs\\python\\python312\\lib\\site-packages (from mlflow-skinny==3.1.4->mlflow->-r requirements.txt (line 3)) (3.1.1)\n",
      "Requirement already satisfied: databricks-sdk<1,>=0.20.0 in c:\\users\\luizb\\appdata\\local\\programs\\python\\python312\\lib\\site-packages (from mlflow-skinny==3.1.4->mlflow->-r requirements.txt (line 3)) (0.61.0)\n",
      "Requirement already satisfied: fastapi<1 in c:\\users\\luizb\\appdata\\local\\programs\\python\\python312\\lib\\site-packages (from mlflow-skinny==3.1.4->mlflow->-r requirements.txt (line 3)) (0.116.1)\n",
      "Requirement already satisfied: gitpython<4,>=3.1.9 in c:\\users\\luizb\\appdata\\local\\programs\\python\\python312\\lib\\site-packages (from mlflow-skinny==3.1.4->mlflow->-r requirements.txt (line 3)) (3.1.45)\n",
      "Requirement already satisfied: importlib_metadata!=4.7.0,<9,>=3.7.0 in c:\\users\\luizb\\appdata\\local\\programs\\python\\python312\\lib\\site-packages (from mlflow-skinny==3.1.4->mlflow->-r requirements.txt (line 3)) (8.7.0)\n",
      "Requirement already satisfied: opentelemetry-api<3,>=1.9.0 in c:\\users\\luizb\\appdata\\local\\programs\\python\\python312\\lib\\site-packages (from mlflow-skinny==3.1.4->mlflow->-r requirements.txt (line 3)) (1.36.0)\n",
      "Requirement already satisfied: opentelemetry-sdk<3,>=1.9.0 in c:\\users\\luizb\\appdata\\local\\programs\\python\\python312\\lib\\site-packages (from mlflow-skinny==3.1.4->mlflow->-r requirements.txt (line 3)) (1.36.0)\n",
      "Requirement already satisfied: packaging<26 in c:\\users\\luizb\\appdata\\roaming\\python\\python312\\site-packages (from mlflow-skinny==3.1.4->mlflow->-r requirements.txt (line 3)) (24.2)\n",
      "Requirement already satisfied: protobuf<7,>=3.12.0 in c:\\users\\luizb\\appdata\\local\\programs\\python\\python312\\lib\\site-packages (from mlflow-skinny==3.1.4->mlflow->-r requirements.txt (line 3)) (6.31.1)\n",
      "Requirement already satisfied: pydantic<3,>=1.10.8 in c:\\users\\luizb\\appdata\\local\\programs\\python\\python312\\lib\\site-packages (from mlflow-skinny==3.1.4->mlflow->-r requirements.txt (line 3)) (2.11.7)\n",
      "Requirement already satisfied: pyyaml<7,>=5.1 in c:\\users\\luizb\\appdata\\local\\programs\\python\\python312\\lib\\site-packages (from mlflow-skinny==3.1.4->mlflow->-r requirements.txt (line 3)) (6.0.2)\n",
      "Requirement already satisfied: sqlparse<1,>=0.4.0 in c:\\users\\luizb\\appdata\\local\\programs\\python\\python312\\lib\\site-packages (from mlflow-skinny==3.1.4->mlflow->-r requirements.txt (line 3)) (0.5.3)\n",
      "Requirement already satisfied: typing-extensions<5,>=4.0.0 in c:\\users\\luizb\\appdata\\local\\programs\\python\\python312\\lib\\site-packages (from mlflow-skinny==3.1.4->mlflow->-r requirements.txt (line 3)) (4.12.2)\n",
      "Requirement already satisfied: uvicorn<1 in c:\\users\\luizb\\appdata\\local\\programs\\python\\python312\\lib\\site-packages (from mlflow-skinny==3.1.4->mlflow->-r requirements.txt (line 3)) (0.35.0)\n",
      "Requirement already satisfied: imbalanced-learn in c:\\users\\luizb\\appdata\\local\\programs\\python\\python312\\lib\\site-packages (from imblearn->-r requirements.txt (line 5)) (0.13.0)\n",
      "Requirement already satisfied: beautifulsoup4 in c:\\users\\luizb\\appdata\\local\\programs\\python\\python312\\lib\\site-packages (from gdown->-r requirements.txt (line 7)) (4.13.4)\n",
      "Requirement already satisfied: filelock in c:\\users\\luizb\\appdata\\local\\programs\\python\\python312\\lib\\site-packages (from gdown->-r requirements.txt (line 7)) (3.18.0)\n",
      "Requirement already satisfied: tqdm in c:\\users\\luizb\\appdata\\local\\programs\\python\\python312\\lib\\site-packages (from gdown->-r requirements.txt (line 7)) (4.67.1)\n",
      "Requirement already satisfied: botocore<1.41.0,>=1.40.1 in c:\\users\\luizb\\appdata\\local\\programs\\python\\python312\\lib\\site-packages (from boto3->-r requirements.txt (line 8)) (1.40.1)\n",
      "Requirement already satisfied: jmespath<2.0.0,>=0.7.1 in c:\\users\\luizb\\appdata\\local\\programs\\python\\python312\\lib\\site-packages (from boto3->-r requirements.txt (line 8)) (1.0.1)\n",
      "Requirement already satisfied: s3transfer<0.14.0,>=0.13.0 in c:\\users\\luizb\\appdata\\local\\programs\\python\\python312\\lib\\site-packages (from boto3->-r requirements.txt (line 8)) (0.13.1)\n",
      "Requirement already satisfied: charset-normalizer<4,>=2 in c:\\users\\luizb\\appdata\\local\\programs\\python\\python312\\lib\\site-packages (from requests->-r requirements.txt (line 9)) (3.4.1)\n",
      "Requirement already satisfied: idna<4,>=2.5 in c:\\users\\luizb\\appdata\\local\\programs\\python\\python312\\lib\\site-packages (from requests->-r requirements.txt (line 9)) (3.10)\n",
      "Requirement already satisfied: urllib3<3,>=1.21.1 in c:\\users\\luizb\\appdata\\local\\programs\\python\\python312\\lib\\site-packages (from requests->-r requirements.txt (line 9)) (2.3.0)\n",
      "Requirement already satisfied: certifi>=2017.4.17 in c:\\users\\luizb\\appdata\\local\\programs\\python\\python312\\lib\\site-packages (from requests->-r requirements.txt (line 9)) (2025.1.31)\n",
      "Requirement already satisfied: colorama>=0.4 in c:\\users\\luizb\\appdata\\roaming\\python\\python312\\site-packages (from pytest->-r requirements.txt (line 10)) (0.4.6)\n",
      "Collecting iniconfig>=1 (from pytest->-r requirements.txt (line 10))\n",
      "  Downloading iniconfig-2.1.0-py3-none-any.whl.metadata (2.7 kB)\n",
      "Collecting pluggy<2,>=1.5 (from pytest->-r requirements.txt (line 10))\n",
      "  Downloading pluggy-1.6.0-py3-none-any.whl.metadata (4.8 kB)\n",
      "Requirement already satisfied: pygments>=2.7.2 in c:\\users\\luizb\\appdata\\roaming\\python\\python312\\site-packages (from pytest->-r requirements.txt (line 10)) (2.19.1)\n",
      "Requirement already satisfied: Mako in c:\\users\\luizb\\appdata\\local\\programs\\python\\python312\\lib\\site-packages (from alembic!=1.10.0,<2->mlflow->-r requirements.txt (line 3)) (1.3.10)\n",
      "Requirement already satisfied: pywin32>=304 in c:\\users\\luizb\\appdata\\roaming\\python\\python312\\site-packages (from docker<8,>=4.0.0->mlflow->-r requirements.txt (line 3)) (309)\n",
      "Requirement already satisfied: blinker>=1.9.0 in c:\\users\\luizb\\appdata\\local\\programs\\python\\python312\\lib\\site-packages (from Flask<4->mlflow->-r requirements.txt (line 3)) (1.9.0)\n",
      "Requirement already satisfied: itsdangerous>=2.2.0 in c:\\users\\luizb\\appdata\\local\\programs\\python\\python312\\lib\\site-packages (from Flask<4->mlflow->-r requirements.txt (line 3)) (2.2.0)\n",
      "Requirement already satisfied: jinja2>=3.1.2 in c:\\users\\luizb\\appdata\\local\\programs\\python\\python312\\lib\\site-packages (from Flask<4->mlflow->-r requirements.txt (line 3)) (3.1.6)\n",
      "Requirement already satisfied: markupsafe>=2.1.1 in c:\\users\\luizb\\appdata\\local\\programs\\python\\python312\\lib\\site-packages (from Flask<4->mlflow->-r requirements.txt (line 3)) (3.0.2)\n",
      "Requirement already satisfied: werkzeug>=3.1.0 in c:\\users\\luizb\\appdata\\local\\programs\\python\\python312\\lib\\site-packages (from Flask<4->mlflow->-r requirements.txt (line 3)) (3.1.3)\n",
      "Requirement already satisfied: graphql-core<3.3,>=3.1 in c:\\users\\luizb\\appdata\\local\\programs\\python\\python312\\lib\\site-packages (from graphene<4->mlflow->-r requirements.txt (line 3)) (3.2.6)\n",
      "Requirement already satisfied: graphql-relay<3.3,>=3.1 in c:\\users\\luizb\\appdata\\local\\programs\\python\\python312\\lib\\site-packages (from graphene<4->mlflow->-r requirements.txt (line 3)) (3.2.0)\n",
      "Requirement already satisfied: contourpy>=1.0.1 in c:\\users\\luizb\\appdata\\local\\programs\\python\\python312\\lib\\site-packages (from matplotlib<4->mlflow->-r requirements.txt (line 3)) (1.3.2)\n",
      "Requirement already satisfied: cycler>=0.10 in c:\\users\\luizb\\appdata\\local\\programs\\python\\python312\\lib\\site-packages (from matplotlib<4->mlflow->-r requirements.txt (line 3)) (0.12.1)\n",
      "Requirement already satisfied: fonttools>=4.22.0 in c:\\users\\luizb\\appdata\\local\\programs\\python\\python312\\lib\\site-packages (from matplotlib<4->mlflow->-r requirements.txt (line 3)) (4.58.4)\n",
      "Requirement already satisfied: kiwisolver>=1.3.1 in c:\\users\\luizb\\appdata\\local\\programs\\python\\python312\\lib\\site-packages (from matplotlib<4->mlflow->-r requirements.txt (line 3)) (1.4.8)\n",
      "Requirement already satisfied: pillow>=8 in c:\\users\\luizb\\appdata\\local\\programs\\python\\python312\\lib\\site-packages (from matplotlib<4->mlflow->-r requirements.txt (line 3)) (11.2.1)\n",
      "Requirement already satisfied: pyparsing>=2.3.1 in c:\\users\\luizb\\appdata\\local\\programs\\python\\python312\\lib\\site-packages (from matplotlib<4->mlflow->-r requirements.txt (line 3)) (3.2.3)\n",
      "Requirement already satisfied: six>=1.5 in c:\\users\\luizb\\appdata\\roaming\\python\\python312\\site-packages (from python-dateutil>=2.8.2->pandas->-r requirements.txt (line 1)) (1.17.0)\n",
      "Requirement already satisfied: greenlet>=1 in c:\\users\\luizb\\appdata\\local\\programs\\python\\python312\\lib\\site-packages (from sqlalchemy<3,>=1.4.0->mlflow->-r requirements.txt (line 3)) (3.2.3)\n",
      "Requirement already satisfied: soupsieve>1.2 in c:\\users\\luizb\\appdata\\local\\programs\\python\\python312\\lib\\site-packages (from beautifulsoup4->gdown->-r requirements.txt (line 7)) (2.7)\n",
      "Requirement already satisfied: sklearn-compat<1,>=0.1 in c:\\users\\luizb\\appdata\\local\\programs\\python\\python312\\lib\\site-packages (from imbalanced-learn->imblearn->-r requirements.txt (line 5)) (0.1.3)\n",
      "Requirement already satisfied: PySocks!=1.5.7,>=1.5.6 in c:\\users\\luizb\\appdata\\local\\programs\\python\\python312\\lib\\site-packages (from requests[socks]->gdown->-r requirements.txt (line 7)) (1.7.1)\n",
      "Requirement already satisfied: google-auth~=2.0 in c:\\users\\luizb\\appdata\\local\\programs\\python\\python312\\lib\\site-packages (from databricks-sdk<1,>=0.20.0->mlflow-skinny==3.1.4->mlflow->-r requirements.txt (line 3)) (2.40.3)\n",
      "Requirement already satisfied: starlette<0.48.0,>=0.40.0 in c:\\users\\luizb\\appdata\\local\\programs\\python\\python312\\lib\\site-packages (from fastapi<1->mlflow-skinny==3.1.4->mlflow->-r requirements.txt (line 3)) (0.47.2)\n",
      "Requirement already satisfied: gitdb<5,>=4.0.1 in c:\\users\\luizb\\appdata\\local\\programs\\python\\python312\\lib\\site-packages (from gitpython<4,>=3.1.9->mlflow-skinny==3.1.4->mlflow->-r requirements.txt (line 3)) (4.0.12)\n",
      "Requirement already satisfied: zipp>=3.20 in c:\\users\\luizb\\appdata\\local\\programs\\python\\python312\\lib\\site-packages (from importlib_metadata!=4.7.0,<9,>=3.7.0->mlflow-skinny==3.1.4->mlflow->-r requirements.txt (line 3)) (3.23.0)\n",
      "Requirement already satisfied: opentelemetry-semantic-conventions==0.57b0 in c:\\users\\luizb\\appdata\\local\\programs\\python\\python312\\lib\\site-packages (from opentelemetry-sdk<3,>=1.9.0->mlflow-skinny==3.1.4->mlflow->-r requirements.txt (line 3)) (0.57b0)\n",
      "Requirement already satisfied: annotated-types>=0.6.0 in c:\\users\\luizb\\appdata\\local\\programs\\python\\python312\\lib\\site-packages (from pydantic<3,>=1.10.8->mlflow-skinny==3.1.4->mlflow->-r requirements.txt (line 3)) (0.7.0)\n",
      "Requirement already satisfied: pydantic-core==2.33.2 in c:\\users\\luizb\\appdata\\local\\programs\\python\\python312\\lib\\site-packages (from pydantic<3,>=1.10.8->mlflow-skinny==3.1.4->mlflow->-r requirements.txt (line 3)) (2.33.2)\n",
      "Requirement already satisfied: typing-inspection>=0.4.0 in c:\\users\\luizb\\appdata\\local\\programs\\python\\python312\\lib\\site-packages (from pydantic<3,>=1.10.8->mlflow-skinny==3.1.4->mlflow->-r requirements.txt (line 3)) (0.4.1)\n",
      "Requirement already satisfied: h11>=0.8 in c:\\users\\luizb\\appdata\\local\\programs\\python\\python312\\lib\\site-packages (from uvicorn<1->mlflow-skinny==3.1.4->mlflow->-r requirements.txt (line 3)) (0.14.0)\n",
      "Requirement already satisfied: smmap<6,>=3.0.1 in c:\\users\\luizb\\appdata\\local\\programs\\python\\python312\\lib\\site-packages (from gitdb<5,>=4.0.1->gitpython<4,>=3.1.9->mlflow-skinny==3.1.4->mlflow->-r requirements.txt (line 3)) (5.0.2)\n",
      "Requirement already satisfied: pyasn1-modules>=0.2.1 in c:\\users\\luizb\\appdata\\local\\programs\\python\\python312\\lib\\site-packages (from google-auth~=2.0->databricks-sdk<1,>=0.20.0->mlflow-skinny==3.1.4->mlflow->-r requirements.txt (line 3)) (0.4.2)\n",
      "Requirement already satisfied: rsa<5,>=3.1.4 in c:\\users\\luizb\\appdata\\local\\programs\\python\\python312\\lib\\site-packages (from google-auth~=2.0->databricks-sdk<1,>=0.20.0->mlflow-skinny==3.1.4->mlflow->-r requirements.txt (line 3)) (4.9.1)\n",
      "Requirement already satisfied: anyio<5,>=3.6.2 in c:\\users\\luizb\\appdata\\local\\programs\\python\\python312\\lib\\site-packages (from starlette<0.48.0,>=0.40.0->fastapi<1->mlflow-skinny==3.1.4->mlflow->-r requirements.txt (line 3)) (4.9.0)\n",
      "Requirement already satisfied: sniffio>=1.1 in c:\\users\\luizb\\appdata\\local\\programs\\python\\python312\\lib\\site-packages (from anyio<5,>=3.6.2->starlette<0.48.0,>=0.40.0->fastapi<1->mlflow-skinny==3.1.4->mlflow->-r requirements.txt (line 3)) (1.3.1)\n",
      "Requirement already satisfied: pyasn1<0.7.0,>=0.6.1 in c:\\users\\luizb\\appdata\\local\\programs\\python\\python312\\lib\\site-packages (from pyasn1-modules>=0.2.1->google-auth~=2.0->databricks-sdk<1,>=0.20.0->mlflow-skinny==3.1.4->mlflow->-r requirements.txt (line 3)) (0.6.1)\n",
      "Downloading pytest-8.4.1-py3-none-any.whl (365 kB)\n",
      "   ---------------------------------------- 0.0/365.5 kB ? eta -:--:--\n",
      "   - -------------------------------------- 10.2/365.5 kB ? eta -:--:--\n",
      "   --- ----------------------------------- 30.7/365.5 kB 660.6 kB/s eta 0:00:01\n",
      "   --------- ----------------------------- 92.2/365.5 kB 871.5 kB/s eta 0:00:01\n",
      "   -------------- ----------------------- 143.4/365.5 kB 950.9 kB/s eta 0:00:01\n",
      "   ------------------------ --------------- 225.3/365.5 kB 1.1 MB/s eta 0:00:01\n",
      "   ------------------------------ --------- 276.5/365.5 kB 1.2 MB/s eta 0:00:01\n",
      "   ---------------------------------------  358.4/365.5 kB 1.2 MB/s eta 0:00:01\n",
      "   ---------------------------------------- 365.5/365.5 kB 1.2 MB/s eta 0:00:00\n",
      "Downloading iniconfig-2.1.0-py3-none-any.whl (6.0 kB)\n",
      "Downloading pluggy-1.6.0-py3-none-any.whl (20 kB)\n",
      "Installing collected packages: pluggy, iniconfig, pytest\n",
      "Successfully installed iniconfig-2.1.0 pluggy-1.6.0 pytest-8.4.1\n"
     ]
    },
    {
     "name": "stderr",
     "output_type": "stream",
     "text": [
      "\n",
      "[notice] A new release of pip is available: 24.0 -> 25.2\n",
      "[notice] To update, run: python.exe -m pip install --upgrade pip\n"
     ]
    }
   ],
   "source": [
    "#Instala dependencias\n",
    "!pip install -r requirements.txt\n",
    "# dvc init\n",
    "# dvc remote add -d s3remote s3://quantumfinance-mlflow-artifacts/dvc\n",
    "# dvc remote modify s3remote endpointurl https://s3.amazonaws.com\n",
    "# dvc pull\n",
    "\n"
   ]
  },
  {
   "cell_type": "markdown",
   "id": "70c35cd6",
   "metadata": {},
   "source": [
    "Para pessoas sem autorização basta executar o código abaixo"
   ]
  },
  {
   "cell_type": "code",
   "execution_count": null,
   "id": "50c93b69",
   "metadata": {},
   "outputs": [],
   "source": [
    "import os\n",
    "import gdown\n",
    "\n",
    "# ID da pasta extraído do link do Google Drive\n",
    "folder_id = \"1VD1LX-cJzqGdQjuascGRvaA_ddX6MqqT\"\n",
    "folder_url = f\"https://drive.google.com/drive/folders/{folder_id}\"\n",
    "\n",
    "# Caminho de saída desejado\n",
    "output_dir = \"../data/\"\n",
    "\n",
    "# Garante que o diretório de destino existe\n",
    "os.makedirs(output_dir, exist_ok=True)\n",
    "\n",
    "# Baixa todos os arquivos da pasta do Google Drive para o diretório especificado\n",
    "gdown.download_folder(url=folder_url, output=output_dir, quiet=False, use_cookies=False)\n"
   ]
  },
  {
   "cell_type": "code",
   "execution_count": 1,
   "id": "4a010fe0",
   "metadata": {},
   "outputs": [
    {
     "name": "stderr",
     "output_type": "stream",
     "text": [
      "[I 2025-08-03 13:14:45.261 ServerApp] Extension package jupyter_lsp took 0.1343s to import\n",
      "[I 2025-08-03 13:14:45.384 ServerApp] Extension package jupyter_server_terminals took 0.1235s to import\n",
      "[I 2025-08-03 13:14:45.664 ServerApp] jupyter_lsp | extension was successfully linked.\n",
      "[I 2025-08-03 13:14:45.667 ServerApp] jupyter_server_terminals | extension was successfully linked.\n",
      "[I 2025-08-03 13:14:45.671 ServerApp] jupyterlab | extension was successfully linked.\n",
      "[W 2025-08-03 13:14:45.682 JupyterNotebookApp] 'notebook_dir' has moved from NotebookApp to ServerApp. This config will be passed to ServerApp. Be sure to update your config before our next release.\n",
      "[W 2025-08-03 13:14:45.684 ServerApp] notebook_dir is deprecated, use root_dir\n",
      "[I 2025-08-03 13:14:45.684 ServerApp] notebook | extension was successfully linked.\n",
      "[I 2025-08-03 13:14:46.224 ServerApp] notebook_shim | extension was successfully linked.\n",
      "[I 2025-08-03 13:14:46.278 ServerApp] notebook_shim | extension was successfully loaded.\n",
      "[I 2025-08-03 13:14:46.280 ServerApp] jupyter_lsp | extension was successfully loaded.\n",
      "[I 2025-08-03 13:14:46.280 ServerApp] jupyter_server_terminals | extension was successfully loaded.\n",
      "[I 2025-08-03 13:14:46.283 LabApp] JupyterLab extension loaded from C:\\Users\\LuizB\\AppData\\Local\\Programs\\Python\\Python313\\Lib\\site-packages\\jupyterlab\n",
      "[I 2025-08-03 13:14:46.283 LabApp] JupyterLab application directory is C:\\Users\\LuizB\\AppData\\Local\\Programs\\Python\\Python313\\share\\jupyter\\lab\n",
      "[I 2025-08-03 13:14:46.283 LabApp] Extension Manager is 'pypi'.\n",
      "[I 2025-08-03 13:14:46.643 ServerApp] jupyterlab | extension was successfully loaded.\n",
      "[I 2025-08-03 13:14:46.647 ServerApp] notebook | extension was successfully loaded.\n",
      "[I 2025-08-03 13:14:46.648 ServerApp] Serving notebooks from local directory: C:\\Laboratorio\\JupyterLab\n",
      "[I 2025-08-03 13:14:46.648 ServerApp] Jupyter Server 2.15.0 is running at:\n",
      "[I 2025-08-03 13:14:46.648 ServerApp] http://localhost:8888/tree?token=8d91e9c920941a61dc22d276396320d955b26ea264b0fada\n",
      "[I 2025-08-03 13:14:46.648 ServerApp]     http://127.0.0.1:8888/tree?token=8d91e9c920941a61dc22d276396320d955b26ea264b0fada\n",
      "[I 2025-08-03 13:14:46.648 ServerApp] Use Control-C to stop this server and shut down all kernels (twice to skip confirmation).\n",
      "[C 2025-08-03 13:14:46.697 ServerApp] `root_dir` and `file_to_run` are incompatible. They don't share the same subtrees. Make sure `file_to_run` is on the same path as `root_dir`.\n"
     ]
    }
   ],
   "source": [
    "!jupyter notebook eda_credit_score.ipynb\n"
   ]
  },
  {
   "cell_type": "code",
   "execution_count": 19,
   "id": "0e3248da",
   "metadata": {},
   "outputs": [
    {
     "name": "stdout",
     "output_type": "stream",
     "text": [
      "c:\\Users\\LuizB\\Desktop\\QuantumFinance\\quantumfinance-credit-score-model\n"
     ]
    }
   ],
   "source": [
    "import os\n",
    "print(os.getcwd())\n"
   ]
  },
  {
   "cell_type": "markdown",
   "id": "03fd77c1",
   "metadata": {},
   "source": [
    "\n",
    "## 🧠 MLflow Tracking Server\n",
    "\n",
    "Inicie localmente em execução externa ao jupyterlab\n",
    "\n",
    "```bash\n",
    "mlflow server \\\n",
    "  --backend-store-uri sqlite:///mlflow.db \\\n",
    "  --default-artifact-root ./mlruns \\\n",
    "  --host 127.0.0.1 \\\n",
    "  --port 5000\n",
    "\n",
    "```\n",
    "\n",
    "Acesse em: [http://localhost:5000](http://localhost:5000)"
   ]
  },
  {
   "cell_type": "code",
   "execution_count": 22,
   "id": "cf724395",
   "metadata": {},
   "outputs": [
    {
     "name": "stdout",
     "output_type": "stream",
     "text": [
      "🚀 Iniciando pipeline...\n",
      "📥 Lendo CSV...\n",
      "✂️ Split treino/teste...\n",
      "🧠 Treinando modelo...\n",
      "🎯 Acurácia: 0.7401\n",
      "📊 Classification Report:\n",
      "               precision    recall  f1-score   support\n",
      "\n",
      "        Good       0.65      0.71      0.68      3566\n",
      "        Poor       0.72      0.76      0.74      5799\n",
      "    Standard       0.78      0.74      0.76     10635\n",
      "\n",
      "    accuracy                           0.74     20000\n",
      "   macro avg       0.72      0.74      0.73     20000\n",
      "weighted avg       0.74      0.74      0.74     20000\n",
      "\n",
      "🏃 View run capable-chimp-534 at: http://localhost:5000/#/experiments/1/runs/50f4993155ff4e2180674647316a4c73\n",
      "🧪 View experiment at: http://localhost:5000/#/experiments/1\n"
     ]
    },
    {
     "name": "stderr",
     "output_type": "stream",
     "text": [
      "2025/08/03 16:00:42 INFO mlflow.tracking.fluent: Experiment with name 'QuantumFinance-CreditScore' does not exist. Creating a new experiment.\n",
      "2025/08/03 16:01:15 WARNING mlflow.models.model: `artifact_path` is deprecated. Please use `name` instead.\n",
      "2025/08/03 16:01:25 WARNING mlflow.models.model: Model logged without a signature and input example. Please set `input_example` parameter when logging the model to auto infer the model signature.\n",
      "Successfully registered model 'quantumfinance-credit-score-model'.\n",
      "2025/08/03 16:01:31 WARNING mlflow.tracking._model_registry.fluent: Run with id 50f4993155ff4e2180674647316a4c73 has no artifacts at artifact path 'model', registering model based on models:/m-2356b8cf2d804cd1bf27507af2681cc0 instead\n",
      "2025/08/03 16:01:32 INFO mlflow.store.model_registry.abstract_store: Waiting up to 300 seconds for model version to finish creation. Model name: quantumfinance-credit-score-model, version 1\n",
      "Created version '1' of model 'quantumfinance-credit-score-model'.\n",
      "c:\\Users\\LuizB\\Desktop\\QuantumFinance\\quantumfinance-credit-score-model\\src\\train_model.py:124: FutureWarning: ``mlflow.tracking.client.MlflowClient.transition_model_version_stage`` is deprecated since 2.9.0. Model registry stages will be removed in a future major release. To learn more about the deprecation of model registry stages, see our migration guide here: https://mlflow.org/docs/latest/model-registry.html#migrating-from-stages\n",
      "  client.transition_model_version_stage(\n",
      "Traceback (most recent call last):\n",
      "  File \"c:\\Users\\LuizB\\Desktop\\QuantumFinance\\quantumfinance-credit-score-model\\src\\train_model.py\", line 148, in <module>\n",
      "    s3.upload_file(file_path, S3_BUCKET, key)\n",
      "  File \"c:\\Users\\LuizB\\AppData\\Local\\Programs\\Python\\Python312\\Lib\\site-packages\\botocore\\context.py\", line 123, in wrapper\n",
      "    return func(*args, **kwargs)\n",
      "           ^^^^^^^^^^^^^^^^^^^^^\n",
      "  File \"c:\\Users\\LuizB\\AppData\\Local\\Programs\\Python\\Python312\\Lib\\site-packages\\boto3\\s3\\inject.py\", line 175, in upload_file\n",
      "    return transfer.upload_file(\n",
      "           ^^^^^^^^^^^^^^^^^^^^^\n",
      "  File \"c:\\Users\\LuizB\\AppData\\Local\\Programs\\Python\\Python312\\Lib\\site-packages\\boto3\\s3\\transfer.py\", line 372, in upload_file\n",
      "    future.result()\n",
      "  File \"c:\\Users\\LuizB\\AppData\\Local\\Programs\\Python\\Python312\\Lib\\site-packages\\s3transfer\\futures.py\", line 111, in result\n",
      "    return self._coordinator.result()\n",
      "           ^^^^^^^^^^^^^^^^^^^^^^^^^^\n",
      "  File \"c:\\Users\\LuizB\\AppData\\Local\\Programs\\Python\\Python312\\Lib\\site-packages\\s3transfer\\futures.py\", line 287, in result\n",
      "    raise self._exception\n",
      "  File \"c:\\Users\\LuizB\\AppData\\Local\\Programs\\Python\\Python312\\Lib\\site-packages\\s3transfer\\tasks.py\", line 142, in __call__\n",
      "    return self._execute_main(kwargs)\n",
      "           ^^^^^^^^^^^^^^^^^^^^^^^^^^\n",
      "  File \"c:\\Users\\LuizB\\AppData\\Local\\Programs\\Python\\Python312\\Lib\\site-packages\\s3transfer\\tasks.py\", line 165, in _execute_main\n",
      "    return_value = self._main(**kwargs)\n",
      "                   ^^^^^^^^^^^^^^^^^^^^\n",
      "  File \"c:\\Users\\LuizB\\AppData\\Local\\Programs\\Python\\Python312\\Lib\\site-packages\\s3transfer\\tasks.py\", line 351, in _main\n",
      "    response = client.create_multipart_upload(\n",
      "               ^^^^^^^^^^^^^^^^^^^^^^^^^^^^^^^\n",
      "  File \"c:\\Users\\LuizB\\AppData\\Local\\Programs\\Python\\Python312\\Lib\\site-packages\\botocore\\client.py\", line 601, in _api_call\n",
      "    return self._make_api_call(operation_name, kwargs)\n",
      "           ^^^^^^^^^^^^^^^^^^^^^^^^^^^^^^^^^^^^^^^^^^^\n",
      "  File \"c:\\Users\\LuizB\\AppData\\Local\\Programs\\Python\\Python312\\Lib\\site-packages\\botocore\\context.py\", line 123, in wrapper\n",
      "    return func(*args, **kwargs)\n",
      "           ^^^^^^^^^^^^^^^^^^^^^\n",
      "  File \"c:\\Users\\LuizB\\AppData\\Local\\Programs\\Python\\Python312\\Lib\\site-packages\\botocore\\client.py\", line 1056, in _make_api_call\n",
      "    http, parsed_response = self._make_request(\n",
      "                            ^^^^^^^^^^^^^^^^^^^\n",
      "  File \"c:\\Users\\LuizB\\AppData\\Local\\Programs\\Python\\Python312\\Lib\\site-packages\\botocore\\client.py\", line 1080, in _make_request\n",
      "    return self._endpoint.make_request(operation_model, request_dict)\n",
      "           ^^^^^^^^^^^^^^^^^^^^^^^^^^^^^^^^^^^^^^^^^^^^^^^^^^^^^^^^^^\n",
      "  File \"c:\\Users\\LuizB\\AppData\\Local\\Programs\\Python\\Python312\\Lib\\site-packages\\botocore\\endpoint.py\", line 118, in make_request\n",
      "    return self._send_request(request_dict, operation_model)\n",
      "           ^^^^^^^^^^^^^^^^^^^^^^^^^^^^^^^^^^^^^^^^^^^^^^^^^\n",
      "  File \"c:\\Users\\LuizB\\AppData\\Local\\Programs\\Python\\Python312\\Lib\\site-packages\\botocore\\endpoint.py\", line 195, in _send_request\n",
      "    request = self.create_request(request_dict, operation_model)\n",
      "              ^^^^^^^^^^^^^^^^^^^^^^^^^^^^^^^^^^^^^^^^^^^^^^^^^^\n",
      "  File \"c:\\Users\\LuizB\\AppData\\Local\\Programs\\Python\\Python312\\Lib\\site-packages\\botocore\\endpoint.py\", line 131, in create_request\n",
      "    self._event_emitter.emit(\n",
      "  File \"c:\\Users\\LuizB\\AppData\\Local\\Programs\\Python\\Python312\\Lib\\site-packages\\botocore\\hooks.py\", line 412, in emit\n",
      "    return self._emitter.emit(aliased_event_name, **kwargs)\n",
      "           ^^^^^^^^^^^^^^^^^^^^^^^^^^^^^^^^^^^^^^^^^^^^^^^^\n",
      "  File \"c:\\Users\\LuizB\\AppData\\Local\\Programs\\Python\\Python312\\Lib\\site-packages\\botocore\\hooks.py\", line 256, in emit\n",
      "    return self._emit(event_name, kwargs)\n",
      "           ^^^^^^^^^^^^^^^^^^^^^^^^^^^^^^\n",
      "  File \"c:\\Users\\LuizB\\AppData\\Local\\Programs\\Python\\Python312\\Lib\\site-packages\\botocore\\hooks.py\", line 239, in _emit\n",
      "    response = handler(**kwargs)\n",
      "               ^^^^^^^^^^^^^^^^^\n",
      "  File \"c:\\Users\\LuizB\\AppData\\Local\\Programs\\Python\\Python312\\Lib\\site-packages\\botocore\\signers.py\", line 108, in handler\n",
      "    return self.sign(operation_name, request)\n",
      "           ^^^^^^^^^^^^^^^^^^^^^^^^^^^^^^^^^^\n",
      "  File \"c:\\Users\\LuizB\\AppData\\Local\\Programs\\Python\\Python312\\Lib\\site-packages\\botocore\\signers.py\", line 200, in sign\n",
      "    auth.add_auth(request)\n",
      "  File \"c:\\Users\\LuizB\\AppData\\Local\\Programs\\Python\\Python312\\Lib\\site-packages\\botocore\\auth.py\", line 421, in add_auth\n",
      "    raise NoCredentialsError()\n",
      "botocore.exceptions.NoCredentialsError: Unable to locate credentials\n"
     ]
    }
   ],
   "source": [
    "##ANTES DE EXECUTAR O CÓDIGO ABAIXO, VERIFIQUE SE O SERVER ESTÁ RODANDO, COMO INICIAR O SERVER ESTÁ DESCRITO ACIMA.\n",
    "!python src/train_model.py"
   ]
  },
  {
   "cell_type": "markdown",
   "id": "75aafb7d",
   "metadata": {},
   "source": [
    "O erro de botocore3 session é um erro esperado uma vez que o acesso para publicação de models só feito por pessoas autorizadas ou pela pipeline."
   ]
  },
  {
   "cell_type": "code",
   "execution_count": 24,
   "id": "a24d63c2",
   "metadata": {},
   "outputs": [
    {
     "name": "stdout",
     "output_type": "stream",
     "text": [
      "Relatório gerado com sucesso em reports/mlflow_report.md\n"
     ]
    }
   ],
   "source": [
    "!python reports/report.py"
   ]
  },
  {
   "cell_type": "code",
   "execution_count": 35,
   "id": "0e5f8759",
   "metadata": {},
   "outputs": [
    {
     "name": "stdout",
     "output_type": "stream",
     "text": [
      "\u001b[1m============================= test session starts =============================\u001b[0m\n",
      "platform win32 -- Python 3.12.3, pytest-8.4.1, pluggy-1.6.0\n",
      "rootdir: c:\\Users\\LuizB\\Desktop\\QuantumFinance\\quantumfinance-credit-score-model\n",
      "plugins: anyio-4.9.0\n",
      "collected 3 items\n",
      "\n",
      "tests\\test_model.py \u001b[32m.\u001b[0m\u001b[32m.\u001b[0m\u001b[32m.\u001b[0m\u001b[32m                                                  [100%]\u001b[0m\n",
      "\n",
      "\u001b[32m============================== \u001b[32m\u001b[1m3 passed\u001b[0m\u001b[32m in 4.19s\u001b[0m\u001b[32m ==============================\u001b[0m\n"
     ]
    }
   ],
   "source": [
    "!pytest tests/"
   ]
  }
 ],
 "metadata": {
  "kernelspec": {
   "display_name": "Python 3",
   "language": "python",
   "name": "python3"
  },
  "language_info": {
   "codemirror_mode": {
    "name": "ipython",
    "version": 3
   },
   "file_extension": ".py",
   "mimetype": "text/x-python",
   "name": "python",
   "nbconvert_exporter": "python",
   "pygments_lexer": "ipython3",
   "version": "3.12.3"
  }
 },
 "nbformat": 4,
 "nbformat_minor": 5
}
