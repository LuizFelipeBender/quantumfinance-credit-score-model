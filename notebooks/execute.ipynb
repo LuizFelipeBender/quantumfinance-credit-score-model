{
 "cells": [
  {
   "cell_type": "code",
   "execution_count": 2,
   "id": "a26d4b3a",
   "metadata": {},
   "outputs": [
    {
     "name": "stderr",
     "output_type": "stream",
     "text": [
      "WARNING: Ignoring invalid distribution -yping-extensions (c:\\users\\luizb\\appdata\\roaming\\python\\python310\\site-packages)\n",
      "ERROR: Could not open requirements file: [Errno 2] No such file or directory: 'requirements.txt'\n",
      "WARNING: Ignoring invalid distribution -yping-extensions (c:\\users\\luizb\\appdata\\roaming\\python\\python310\\site-packages)\n",
      "WARNING: Ignoring invalid distribution -yping-extensions (c:\\users\\luizb\\appdata\\roaming\\python\\python310\\site-packages)\n",
      "WARNING: Ignoring invalid distribution -yping-extensions (c:\\users\\luizb\\appdata\\roaming\\python\\python310\\site-packages)\n",
      "WARNING: You are using pip version 21.2.3; however, version 25.2 is available.\n",
      "You should consider upgrading via the 'C:\\Users\\LuizB\\AppData\\Local\\Programs\\Python\\Python310\\python.exe -m pip install --upgrade pip' command.\n"
     ]
    }
   ],
   "source": [
    "#Instala dependencias\n",
    "!pip install -r requirements.txt\n",
    "# dvc init\n",
    "# dvc remote add -d s3remote s3://quantumfinance-mlflow-artifacts/dvc\n",
    "# dvc remote modify s3remote endpointurl https://s3.amazonaws.com\n",
    "# dvc pull\n",
    "\n"
   ]
  },
  {
   "cell_type": "markdown",
   "id": "2004ec73",
   "metadata": {},
   "source": [
    "Em um terminal separado rode mlflow ui --backend-store-uri sqlite:///mlflow.db --default-artifact-root ./mlruns"
   ]
  },
  {
   "cell_type": "code",
   "execution_count": 1,
   "id": "4a010fe0",
   "metadata": {},
   "outputs": [
    {
     "name": "stderr",
     "output_type": "stream",
     "text": [
      "[I 2025-08-03 13:14:45.261 ServerApp] Extension package jupyter_lsp took 0.1343s to import\n",
      "[I 2025-08-03 13:14:45.384 ServerApp] Extension package jupyter_server_terminals took 0.1235s to import\n",
      "[I 2025-08-03 13:14:45.664 ServerApp] jupyter_lsp | extension was successfully linked.\n",
      "[I 2025-08-03 13:14:45.667 ServerApp] jupyter_server_terminals | extension was successfully linked.\n",
      "[I 2025-08-03 13:14:45.671 ServerApp] jupyterlab | extension was successfully linked.\n",
      "[W 2025-08-03 13:14:45.682 JupyterNotebookApp] 'notebook_dir' has moved from NotebookApp to ServerApp. This config will be passed to ServerApp. Be sure to update your config before our next release.\n",
      "[W 2025-08-03 13:14:45.684 ServerApp] notebook_dir is deprecated, use root_dir\n",
      "[I 2025-08-03 13:14:45.684 ServerApp] notebook | extension was successfully linked.\n",
      "[I 2025-08-03 13:14:46.224 ServerApp] notebook_shim | extension was successfully linked.\n",
      "[I 2025-08-03 13:14:46.278 ServerApp] notebook_shim | extension was successfully loaded.\n",
      "[I 2025-08-03 13:14:46.280 ServerApp] jupyter_lsp | extension was successfully loaded.\n",
      "[I 2025-08-03 13:14:46.280 ServerApp] jupyter_server_terminals | extension was successfully loaded.\n",
      "[I 2025-08-03 13:14:46.283 LabApp] JupyterLab extension loaded from C:\\Users\\LuizB\\AppData\\Local\\Programs\\Python\\Python313\\Lib\\site-packages\\jupyterlab\n",
      "[I 2025-08-03 13:14:46.283 LabApp] JupyterLab application directory is C:\\Users\\LuizB\\AppData\\Local\\Programs\\Python\\Python313\\share\\jupyter\\lab\n",
      "[I 2025-08-03 13:14:46.283 LabApp] Extension Manager is 'pypi'.\n",
      "[I 2025-08-03 13:14:46.643 ServerApp] jupyterlab | extension was successfully loaded.\n",
      "[I 2025-08-03 13:14:46.647 ServerApp] notebook | extension was successfully loaded.\n",
      "[I 2025-08-03 13:14:46.648 ServerApp] Serving notebooks from local directory: C:\\Laboratorio\\JupyterLab\n",
      "[I 2025-08-03 13:14:46.648 ServerApp] Jupyter Server 2.15.0 is running at:\n",
      "[I 2025-08-03 13:14:46.648 ServerApp] http://localhost:8888/tree?token=8d91e9c920941a61dc22d276396320d955b26ea264b0fada\n",
      "[I 2025-08-03 13:14:46.648 ServerApp]     http://127.0.0.1:8888/tree?token=8d91e9c920941a61dc22d276396320d955b26ea264b0fada\n",
      "[I 2025-08-03 13:14:46.648 ServerApp] Use Control-C to stop this server and shut down all kernels (twice to skip confirmation).\n",
      "[C 2025-08-03 13:14:46.697 ServerApp] `root_dir` and `file_to_run` are incompatible. They don't share the same subtrees. Make sure `file_to_run` is on the same path as `root_dir`.\n"
     ]
    }
   ],
   "source": [
    "!jupyter notebook eda_credit_score.ipynb\n"
   ]
  },
  {
   "cell_type": "markdown",
   "id": "03fd77c1",
   "metadata": {},
   "source": [
    "\n",
    "## 🧠 MLflow Tracking Server\n",
    "\n",
    "Inicie localmente em execução externa ao jupyterlab\n",
    "\n",
    "```bash\n",
    "mlflow ui\n",
    "ou \n",
    "mlflow ui --backend-store-uri ./mlruns --port 5000\n",
    "```\n",
    "\n",
    "Acesse em: [http://localhost:5000](http://localhost:5000)"
   ]
  },
  {
   "cell_type": "code",
   "execution_count": 1,
   "id": "eab334fd",
   "metadata": {},
   "outputs": [
    {
     "name": "stdout",
     "output_type": "stream",
     "text": [
      "Diretório atual: c:\\Users\\LuizB\\Downloads\\QuantumFinance\\quantumfinance-credit-score-model\n",
      "🚀 Iniciando pipeline...\n",
      "📥 Lendo CSV...\n",
      "✂️ Split treino/teste...\n",
      "🧠 Treinando modelo...\n"
     ]
    },
    {
     "name": "stderr",
     "output_type": "stream",
     "text": [
      "2025/08/01 22:24:36 WARNING mlflow.models.model: `artifact_path` is deprecated. Please use `name` instead.\n",
      "2025/08/01 22:24:41 WARNING mlflow.models.model: Model logged without a signature and input example. Please set `input_example` parameter when logging the model to auto infer the model signature.\n"
     ]
    },
    {
     "name": "stdout",
     "output_type": "stream",
     "text": [
      "\n",
      "🎯 Acurácia: 0.7488\n",
      "📊 Classification Report:\n",
      "               precision    recall  f1-score   support\n",
      "\n",
      "        Good       0.68      0.68      0.68      3566\n",
      "        Poor       0.74      0.75      0.74      5799\n",
      "    Standard       0.78      0.77      0.77     10635\n",
      "\n",
      "    accuracy                           0.75     20000\n",
      "   macro avg       0.73      0.73      0.73     20000\n",
      "weighted avg       0.75      0.75      0.75     20000\n",
      "\n",
      "💾 Modelo salvo em models/model.pkl\n",
      "⚠️ Erro ao notificar API: HTTPConnectionPool(host='localhost', port=8000): Max retries exceeded with url: /trigger-deploy (Caused by NewConnectionError('<urllib3.connection.HTTPConnection object at 0x0000012DB992A110>: Failed to establish a new connection: [WinError 10061] Nenhuma conexão pôde ser feita porque a máquina de destino as recusou ativamente'))\n",
      "🏃 View run handsome-dove-754 at: http://localhost:5000/#/experiments/671318065414780006/runs/b02bf71dcab749d8a2f6bb9f107b6900\n",
      "🧪 View experiment at: http://localhost:5000/#/experiments/671318065414780006\n",
      "✅ Pipeline finalizada em 15.73s\n"
     ]
    }
   ],
   "source": [
    "import os\n",
    "\n",
    "# Muda para a raiz do projeto\n",
    "os.chdir(\"..\")  # Volta um nível (de 'notebooks' para 'quantumfinance-credit-score-model')\n",
    "print(\"Diretório atual:\", os.getcwd())  # Deve mostrar a raiz do projeto\n",
    "\n",
    "# Agora execute o script\n",
    "%run src/train_model.py"
   ]
  },
  {
   "cell_type": "code",
   "execution_count": 5,
   "id": "a24d63c2",
   "metadata": {},
   "outputs": [
    {
     "name": "stdout",
     "output_type": "stream",
     "text": [
      "Relatório gerado com sucesso em reports/mlflow_report.md\n"
     ]
    }
   ],
   "source": [
    "!python ../reports/report.py"
   ]
  },
  {
   "cell_type": "code",
   "execution_count": 3,
   "id": "0e5f8759",
   "metadata": {},
   "outputs": [
    {
     "name": "stdout",
     "output_type": "stream",
     "text": [
      "\u001b[1m============================= test session starts =============================\u001b[0m\n",
      "platform win32 -- Python 3.10.0, pytest-8.4.1, pluggy-1.6.0\n",
      "rootdir: c:\\Users\\LuizB\\Downloads\\QuantumFinance\\quantumfinance-credit-score-model\n",
      "plugins: anyio-4.9.0, hydra-core-1.3.2\n",
      "collected 3 items\n",
      "\n",
      "..\\tests\\test_model.py \u001b[32m.\u001b[0m\u001b[32m.\u001b[0m\u001b[32m.\u001b[0m\u001b[32m                                               [100%]\u001b[0m\n",
      "\n",
      "\u001b[32m============================== \u001b[32m\u001b[1m3 passed\u001b[0m\u001b[32m in 2.98s\u001b[0m\u001b[32m ==============================\u001b[0m\n"
     ]
    }
   ],
   "source": [
    "!pytest ../tests"
   ]
  }
 ],
 "metadata": {
  "kernelspec": {
   "display_name": "Python 3",
   "language": "python",
   "name": "python3"
  },
  "language_info": {
   "codemirror_mode": {
    "name": "ipython",
    "version": 3
   },
   "file_extension": ".py",
   "mimetype": "text/x-python",
   "name": "python",
   "nbconvert_exporter": "python",
   "pygments_lexer": "ipython3",
   "version": "3.10.0"
  }
 },
 "nbformat": 4,
 "nbformat_minor": 5
}
