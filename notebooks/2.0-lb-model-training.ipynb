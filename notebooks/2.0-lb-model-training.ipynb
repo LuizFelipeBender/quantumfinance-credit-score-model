{
 "cells": [
  {
   "cell_type": "markdown",
   "id": "f434184c",
   "metadata": {},
   "source": [
    "# 🧠 Treinamento e Logging do Modelo - Credit Score"
   ]
  },
  {
   "cell_type": "code",
   "execution_count": null,
   "id": "c49469fb",
   "metadata": {},
   "outputs": [],
   "source": [
    "!pip install -q pandas scikit-learn mlflow"
   ]
  },
  {
   "cell_type": "code",
   "execution_count": null,
   "id": "313feb31",
   "metadata": {},
   "outputs": [],
   "source": [
    "!python ../src/train_model.py"
   ]
  },
  {
   "cell_type": "markdown",
   "id": "b7286c99",
   "metadata": {},
   "source": [
    "_Notebook gerado automaticamente para treinar e rastrear modelo via MLflow_"
   ]
  }
 ],
 "metadata": {},
 "nbformat": 4,
 "nbformat_minor": 5
}